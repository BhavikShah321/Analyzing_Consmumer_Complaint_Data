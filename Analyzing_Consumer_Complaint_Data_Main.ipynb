{
 "cells": [
  {
   "cell_type": "markdown",
   "metadata": {},
   "source": [
    "I will first import the pandas library and the csv file. I will assign the csv file to the variable data, which will be our main dataframe in this project"
   ]
  },
  {
   "cell_type": "code",
   "execution_count": 1,
   "metadata": {},
   "outputs": [],
   "source": [
    "import pandas as pd \n",
    "from IPython.display import display\n",
    "data = pd.read_csv(\"Consumer_complaints.csv\")"
   ]
  },
  {
   "cell_type": "markdown",
   "metadata": {},
   "source": [
    "I will now look at the first ten rows of the data to familiarize myself with the data, the datatypes for each column, and the column names themselves. "
   ]
  },
  {
   "cell_type": "code",
   "execution_count": 2,
   "metadata": {},
   "outputs": [
    {
     "data": {
      "text/html": [
       "<div>\n",
       "<style scoped>\n",
       "    .dataframe tbody tr th:only-of-type {\n",
       "        vertical-align: middle;\n",
       "    }\n",
       "\n",
       "    .dataframe tbody tr th {\n",
       "        vertical-align: top;\n",
       "    }\n",
       "\n",
       "    .dataframe thead th {\n",
       "        text-align: right;\n",
       "    }\n",
       "</style>\n",
       "<table border=\"1\" class=\"dataframe\">\n",
       "  <thead>\n",
       "    <tr style=\"text-align: right;\">\n",
       "      <th></th>\n",
       "      <th>Date received</th>\n",
       "      <th>Product</th>\n",
       "      <th>Sub-product</th>\n",
       "      <th>Issue</th>\n",
       "      <th>Sub-issue</th>\n",
       "      <th>Consumer complaint narrative</th>\n",
       "      <th>Company public response</th>\n",
       "      <th>Company</th>\n",
       "      <th>State</th>\n",
       "      <th>ZIP code</th>\n",
       "      <th>Tags</th>\n",
       "      <th>Consumer consent provided?</th>\n",
       "      <th>Submitted via</th>\n",
       "      <th>Date sent to company</th>\n",
       "      <th>Company response to consumer</th>\n",
       "      <th>Timely response?</th>\n",
       "      <th>Consumer disputed?</th>\n",
       "      <th>Complaint ID</th>\n",
       "    </tr>\n",
       "  </thead>\n",
       "  <tbody>\n",
       "    <tr>\n",
       "      <th>0</th>\n",
       "      <td>03/12/2014</td>\n",
       "      <td>Mortgage</td>\n",
       "      <td>Other mortgage</td>\n",
       "      <td>Loan modification,collection,foreclosure</td>\n",
       "      <td>NaN</td>\n",
       "      <td>NaN</td>\n",
       "      <td>NaN</td>\n",
       "      <td>M&amp;T BANK CORPORATION</td>\n",
       "      <td>MI</td>\n",
       "      <td>48382</td>\n",
       "      <td>NaN</td>\n",
       "      <td>NaN</td>\n",
       "      <td>Referral</td>\n",
       "      <td>03/17/2014</td>\n",
       "      <td>Closed with explanation</td>\n",
       "      <td>Yes</td>\n",
       "      <td>No</td>\n",
       "      <td>759217</td>\n",
       "    </tr>\n",
       "    <tr>\n",
       "      <th>1</th>\n",
       "      <td>06/08/2014</td>\n",
       "      <td>Credit card</td>\n",
       "      <td>NaN</td>\n",
       "      <td>Bankruptcy</td>\n",
       "      <td>NaN</td>\n",
       "      <td>NaN</td>\n",
       "      <td>NaN</td>\n",
       "      <td>AMERICAN EXPRESS COMPANY</td>\n",
       "      <td>ID</td>\n",
       "      <td>83854</td>\n",
       "      <td>Older American</td>\n",
       "      <td>NaN</td>\n",
       "      <td>Web</td>\n",
       "      <td>06/10/2014</td>\n",
       "      <td>Closed with explanation</td>\n",
       "      <td>Yes</td>\n",
       "      <td>Yes</td>\n",
       "      <td>885638</td>\n",
       "    </tr>\n",
       "    <tr>\n",
       "      <th>2</th>\n",
       "      <td>09/13/2014</td>\n",
       "      <td>Debt collection</td>\n",
       "      <td>Credit card</td>\n",
       "      <td>Communication tactics</td>\n",
       "      <td>Frequent or repeated calls</td>\n",
       "      <td>NaN</td>\n",
       "      <td>NaN</td>\n",
       "      <td>CITIBANK, N.A.</td>\n",
       "      <td>VA</td>\n",
       "      <td>23233</td>\n",
       "      <td>NaN</td>\n",
       "      <td>NaN</td>\n",
       "      <td>Web</td>\n",
       "      <td>09/13/2014</td>\n",
       "      <td>Closed with explanation</td>\n",
       "      <td>Yes</td>\n",
       "      <td>Yes</td>\n",
       "      <td>1027760</td>\n",
       "    </tr>\n",
       "    <tr>\n",
       "      <th>3</th>\n",
       "      <td>11/13/2013</td>\n",
       "      <td>Mortgage</td>\n",
       "      <td>Conventional adjustable mortgage (ARM)</td>\n",
       "      <td>Loan servicing, payments, escrow account</td>\n",
       "      <td>NaN</td>\n",
       "      <td>NaN</td>\n",
       "      <td>NaN</td>\n",
       "      <td>U.S. BANCORP</td>\n",
       "      <td>MN</td>\n",
       "      <td>48322</td>\n",
       "      <td>NaN</td>\n",
       "      <td>NaN</td>\n",
       "      <td>Phone</td>\n",
       "      <td>11/20/2013</td>\n",
       "      <td>Closed with monetary relief</td>\n",
       "      <td>Yes</td>\n",
       "      <td>No</td>\n",
       "      <td>596562</td>\n",
       "    </tr>\n",
       "    <tr>\n",
       "      <th>4</th>\n",
       "      <td>06/16/2015</td>\n",
       "      <td>Debt collection</td>\n",
       "      <td>Medical</td>\n",
       "      <td>Improper contact or sharing of info</td>\n",
       "      <td>Contacted employer after asked not to</td>\n",
       "      <td>NaN</td>\n",
       "      <td>Company believes it acted appropriately as aut...</td>\n",
       "      <td>California Accounts Service</td>\n",
       "      <td>CA</td>\n",
       "      <td>92111</td>\n",
       "      <td>NaN</td>\n",
       "      <td>Consent not provided</td>\n",
       "      <td>Web</td>\n",
       "      <td>06/19/2015</td>\n",
       "      <td>Closed with explanation</td>\n",
       "      <td>Yes</td>\n",
       "      <td>No</td>\n",
       "      <td>1422680</td>\n",
       "    </tr>\n",
       "    <tr>\n",
       "      <th>5</th>\n",
       "      <td>06/15/2015</td>\n",
       "      <td>Credit reporting</td>\n",
       "      <td>NaN</td>\n",
       "      <td>Credit reporting company's investigation</td>\n",
       "      <td>Inadequate help over the phone</td>\n",
       "      <td>An account on my credit report has a mistaken ...</td>\n",
       "      <td>Company chooses not to provide a public response</td>\n",
       "      <td>Experian Information Solutions Inc.</td>\n",
       "      <td>VA</td>\n",
       "      <td>224XX</td>\n",
       "      <td>NaN</td>\n",
       "      <td>Consent provided</td>\n",
       "      <td>Web</td>\n",
       "      <td>06/15/2015</td>\n",
       "      <td>Closed with explanation</td>\n",
       "      <td>Yes</td>\n",
       "      <td>No</td>\n",
       "      <td>1420702</td>\n",
       "    </tr>\n",
       "    <tr>\n",
       "      <th>6</th>\n",
       "      <td>11/13/2015</td>\n",
       "      <td>Mortgage</td>\n",
       "      <td>Other mortgage</td>\n",
       "      <td>Loan modification,collection,foreclosure</td>\n",
       "      <td>NaN</td>\n",
       "      <td>NaN</td>\n",
       "      <td>Company believes it acted appropriately as aut...</td>\n",
       "      <td>Aldridge Pite, LLP</td>\n",
       "      <td>CA</td>\n",
       "      <td>93101</td>\n",
       "      <td>NaN</td>\n",
       "      <td>NaN</td>\n",
       "      <td>Referral</td>\n",
       "      <td>12/10/2015</td>\n",
       "      <td>Closed with explanation</td>\n",
       "      <td>Yes</td>\n",
       "      <td>Yes</td>\n",
       "      <td>1654890</td>\n",
       "    </tr>\n",
       "    <tr>\n",
       "      <th>7</th>\n",
       "      <td>10/21/2014</td>\n",
       "      <td>Mortgage</td>\n",
       "      <td>Conventional fixed mortgage</td>\n",
       "      <td>Loan modification,collection,foreclosure</td>\n",
       "      <td>NaN</td>\n",
       "      <td>NaN</td>\n",
       "      <td>NaN</td>\n",
       "      <td>OCWEN LOAN SERVICING LLC</td>\n",
       "      <td>FL</td>\n",
       "      <td>32714</td>\n",
       "      <td>Older American</td>\n",
       "      <td>NaN</td>\n",
       "      <td>Web</td>\n",
       "      <td>10/21/2014</td>\n",
       "      <td>Closed with explanation</td>\n",
       "      <td>Yes</td>\n",
       "      <td>No</td>\n",
       "      <td>1079567</td>\n",
       "    </tr>\n",
       "    <tr>\n",
       "      <th>8</th>\n",
       "      <td>04/14/2017</td>\n",
       "      <td>Mortgage</td>\n",
       "      <td>Other mortgage</td>\n",
       "      <td>Loan modification,collection,foreclosure</td>\n",
       "      <td>NaN</td>\n",
       "      <td>NaN</td>\n",
       "      <td>Company believes it acted appropriately as aut...</td>\n",
       "      <td>Shellpoint Partners, LLC</td>\n",
       "      <td>CA</td>\n",
       "      <td>90305</td>\n",
       "      <td>NaN</td>\n",
       "      <td>NaN</td>\n",
       "      <td>Referral</td>\n",
       "      <td>04/14/2017</td>\n",
       "      <td>Closed with explanation</td>\n",
       "      <td>Yes</td>\n",
       "      <td>No</td>\n",
       "      <td>2436165</td>\n",
       "    </tr>\n",
       "    <tr>\n",
       "      <th>9</th>\n",
       "      <td>03/30/2012</td>\n",
       "      <td>Student loan</td>\n",
       "      <td>Non-federal student loan</td>\n",
       "      <td>Repaying your loan</td>\n",
       "      <td>NaN</td>\n",
       "      <td>NaN</td>\n",
       "      <td>NaN</td>\n",
       "      <td>Student Loan Finance Corporation</td>\n",
       "      <td>MN</td>\n",
       "      <td>55428</td>\n",
       "      <td>NaN</td>\n",
       "      <td>NaN</td>\n",
       "      <td>Web</td>\n",
       "      <td>07/12/2012</td>\n",
       "      <td>Closed with explanation</td>\n",
       "      <td>Yes</td>\n",
       "      <td>No</td>\n",
       "      <td>42864</td>\n",
       "    </tr>\n",
       "  </tbody>\n",
       "</table>\n",
       "</div>"
      ],
      "text/plain": [
       "  Date received           Product                             Sub-product  \\\n",
       "0    03/12/2014          Mortgage                          Other mortgage   \n",
       "1    06/08/2014       Credit card                                     NaN   \n",
       "2    09/13/2014   Debt collection                             Credit card   \n",
       "3    11/13/2013          Mortgage  Conventional adjustable mortgage (ARM)   \n",
       "4    06/16/2015   Debt collection                                 Medical   \n",
       "5    06/15/2015  Credit reporting                                     NaN   \n",
       "6    11/13/2015          Mortgage                          Other mortgage   \n",
       "7    10/21/2014          Mortgage             Conventional fixed mortgage   \n",
       "8    04/14/2017          Mortgage                          Other mortgage   \n",
       "9    03/30/2012      Student loan                Non-federal student loan   \n",
       "\n",
       "                                      Issue  \\\n",
       "0  Loan modification,collection,foreclosure   \n",
       "1                                Bankruptcy   \n",
       "2                     Communication tactics   \n",
       "3  Loan servicing, payments, escrow account   \n",
       "4       Improper contact or sharing of info   \n",
       "5  Credit reporting company's investigation   \n",
       "6  Loan modification,collection,foreclosure   \n",
       "7  Loan modification,collection,foreclosure   \n",
       "8  Loan modification,collection,foreclosure   \n",
       "9                        Repaying your loan   \n",
       "\n",
       "                               Sub-issue  \\\n",
       "0                                    NaN   \n",
       "1                                    NaN   \n",
       "2             Frequent or repeated calls   \n",
       "3                                    NaN   \n",
       "4  Contacted employer after asked not to   \n",
       "5         Inadequate help over the phone   \n",
       "6                                    NaN   \n",
       "7                                    NaN   \n",
       "8                                    NaN   \n",
       "9                                    NaN   \n",
       "\n",
       "                        Consumer complaint narrative  \\\n",
       "0                                                NaN   \n",
       "1                                                NaN   \n",
       "2                                                NaN   \n",
       "3                                                NaN   \n",
       "4                                                NaN   \n",
       "5  An account on my credit report has a mistaken ...   \n",
       "6                                                NaN   \n",
       "7                                                NaN   \n",
       "8                                                NaN   \n",
       "9                                                NaN   \n",
       "\n",
       "                             Company public response  \\\n",
       "0                                                NaN   \n",
       "1                                                NaN   \n",
       "2                                                NaN   \n",
       "3                                                NaN   \n",
       "4  Company believes it acted appropriately as aut...   \n",
       "5   Company chooses not to provide a public response   \n",
       "6  Company believes it acted appropriately as aut...   \n",
       "7                                                NaN   \n",
       "8  Company believes it acted appropriately as aut...   \n",
       "9                                                NaN   \n",
       "\n",
       "                               Company State ZIP code            Tags  \\\n",
       "0                 M&T BANK CORPORATION    MI    48382             NaN   \n",
       "1             AMERICAN EXPRESS COMPANY    ID    83854  Older American   \n",
       "2                       CITIBANK, N.A.    VA    23233             NaN   \n",
       "3                         U.S. BANCORP    MN    48322             NaN   \n",
       "4          California Accounts Service    CA    92111             NaN   \n",
       "5  Experian Information Solutions Inc.    VA    224XX             NaN   \n",
       "6                   Aldridge Pite, LLP    CA    93101             NaN   \n",
       "7             OCWEN LOAN SERVICING LLC    FL    32714  Older American   \n",
       "8             Shellpoint Partners, LLC    CA    90305             NaN   \n",
       "9     Student Loan Finance Corporation    MN    55428             NaN   \n",
       "\n",
       "  Consumer consent provided? Submitted via Date sent to company  \\\n",
       "0                        NaN      Referral           03/17/2014   \n",
       "1                        NaN           Web           06/10/2014   \n",
       "2                        NaN           Web           09/13/2014   \n",
       "3                        NaN         Phone           11/20/2013   \n",
       "4       Consent not provided           Web           06/19/2015   \n",
       "5           Consent provided           Web           06/15/2015   \n",
       "6                        NaN      Referral           12/10/2015   \n",
       "7                        NaN           Web           10/21/2014   \n",
       "8                        NaN      Referral           04/14/2017   \n",
       "9                        NaN           Web           07/12/2012   \n",
       "\n",
       "  Company response to consumer Timely response? Consumer disputed?  \\\n",
       "0      Closed with explanation              Yes                 No   \n",
       "1      Closed with explanation              Yes                Yes   \n",
       "2      Closed with explanation              Yes                Yes   \n",
       "3  Closed with monetary relief              Yes                 No   \n",
       "4      Closed with explanation              Yes                 No   \n",
       "5      Closed with explanation              Yes                 No   \n",
       "6      Closed with explanation              Yes                Yes   \n",
       "7      Closed with explanation              Yes                 No   \n",
       "8      Closed with explanation              Yes                 No   \n",
       "9      Closed with explanation              Yes                 No   \n",
       "\n",
       "   Complaint ID  \n",
       "0        759217  \n",
       "1        885638  \n",
       "2       1027760  \n",
       "3        596562  \n",
       "4       1422680  \n",
       "5       1420702  \n",
       "6       1654890  \n",
       "7       1079567  \n",
       "8       2436165  \n",
       "9         42864  "
      ]
     },
     "metadata": {},
     "output_type": "display_data"
    },
    {
     "data": {
      "text/plain": [
       "Date received                   object\n",
       "Product                         object\n",
       "Sub-product                     object\n",
       "Issue                           object\n",
       "Sub-issue                       object\n",
       "Consumer complaint narrative    object\n",
       "Company public response         object\n",
       "Company                         object\n",
       "State                           object\n",
       "ZIP code                        object\n",
       "Tags                            object\n",
       "Consumer consent provided?      object\n",
       "Submitted via                   object\n",
       "Date sent to company            object\n",
       "Company response to consumer    object\n",
       "Timely response?                object\n",
       "Consumer disputed?              object\n",
       "Complaint ID                     int64\n",
       "dtype: object"
      ]
     },
     "metadata": {},
     "output_type": "display_data"
    },
    {
     "data": {
      "text/plain": [
       "Index(['Date received', 'Product', 'Sub-product', 'Issue', 'Sub-issue',\n",
       "       'Consumer complaint narrative', 'Company public response', 'Company',\n",
       "       'State', 'ZIP code', 'Tags', 'Consumer consent provided?',\n",
       "       'Submitted via', 'Date sent to company', 'Company response to consumer',\n",
       "       'Timely response?', 'Consumer disputed?', 'Complaint ID'],\n",
       "      dtype='object')"
      ]
     },
     "metadata": {},
     "output_type": "display_data"
    }
   ],
   "source": [
    "display(data.head(10))\n",
    "display(data.dtypes)\n",
    "display(data.columns)\n"
   ]
  },
  {
   "cell_type": "markdown",
   "metadata": {},
   "source": [
    "### This is description of the columns of this dataframe as provided by the Consumer Financial Protection Bureau\n",
    "-  Date received: The date the CFPB received the complaint\n",
    "-  Product: The type of product the consumer identified in the complaint\n",
    "-  The type of sub-product the consumer identified in the complaint\n",
    "-  Issue: The issue the consumer identified in the complaint\n",
    "-  Sub-Issue: The sub-issue the consumer identified in the complaint\n",
    "-  Consumer complaint narrative: A detailed sentence or two that describes the experience of the consumer. This is only shared with consent of consumer\n",
    "-  Company public response: The company's response to issue faced by consumer. This is optional for the company\n",
    "-  Company: The name of the company that the consumer has a grievance with\n",
    "-  State: The state of the mailing address provided by the consumer\n",
    "-  ZIP code: The mailing ZIP code provided by the consumer\n",
    "-  Tags: Data that will make it easier to broadly identify consumer. Examples include \"Older American\" or \"Servicemember\"\n",
    "-  Consumer consent provided?: Identifies whether consumer provided consent to publish complaint narrative\n",
    "-  Submitted via: How the complaint was submitted to Consumer Financial Protection Bureau\n",
    "-  Date sent to company: The date the CFPB sent the complaint to the company\n",
    "-  Company response to consumer: This is how the company responded. For example, \"Closed with explanation.\"\n",
    "-  Timely response?: Whether the company gave a timely response\n",
    "-  Consumer disputed?: Whether the consumer disputed the company’s response\n",
    "-  Complaint ID: The unique identification number for a complaint\n"
   ]
  },
  {
   "cell_type": "markdown",
   "metadata": {},
   "source": [
    "From looking at the datatypes of the columns, we can see that they are each a string except for Complaint ID which is a integer. Later on, I will change the datatype of Date received and Date sent to company to datetime, which is a more appropriate datatype for dates. As for the column names, I will write a function that will make each name lower case, change whitespaces to underscores, and remove special characters.  "
   ]
  },
  {
   "cell_type": "code",
   "execution_count": 3,
   "metadata": {},
   "outputs": [
    {
     "data": {
      "text/plain": [
       "Index(['date_received', 'product', 'sub-product', 'issue', 'sub-issue',\n",
       "       'consumer_complaint_narrative', 'company_public_response', 'company',\n",
       "       'state', 'zip_code', 'tags', 'consumer_consent_provided',\n",
       "       'submitted_via', 'date_sent_to_company', 'company_response_to_consumer',\n",
       "       'timely_response', 'consumer_disputed', 'complaint_id'],\n",
       "      dtype='object')"
      ]
     },
     "metadata": {},
     "output_type": "display_data"
    }
   ],
   "source": [
    "def change_column_names(c):\n",
    "    c = c.lower()\n",
    "    c = c.replace(\" \",\"_\")\n",
    "    c = c.replace(\"?\", \"\")\n",
    "    return c\n",
    "data.columns = [change_column_names(column) for column in data.columns]\n",
    "display(data.columns)"
   ]
  },
  {
   "cell_type": "markdown",
   "metadata": {},
   "source": [
    "Now that the column names have been changed, I will start to answer the questions. \n",
    "\n",
    "### The first question is which company receives the most complaints and how many complaints does that company receive?"
   ]
  },
  {
   "cell_type": "code",
   "execution_count": 65,
   "metadata": {},
   "outputs": [
    {
     "data": {
      "text/plain": [
       "'The company that receives the most complaints is equifax with 92186 complaints.'"
      ]
     },
     "metadata": {},
     "output_type": "display_data"
    }
   ],
   "source": [
    "company_with_most_complaints = data[\"company\"].value_counts().head(1).index[0]\n",
    "number_company_most_complaints = data[\"company\"].value_counts().head(1).iloc[0]\n",
    "display(\"The company that receives the most complaints is \" + company_with_most_complaints.lower().split(\",\")[0] + \" with \" +\n",
    "       str(number_company_most_complaints) + \" complaints.\")\n",
    "\n"
   ]
  },
  {
   "cell_type": "markdown",
   "metadata": {},
   "source": [
    "First, I assigned the name of the company that had the most complaints to company_with_most_complaints. I then assigned the number of complaints from that company to number_company_most_complaints. I then displayed the output in a sentence, and I used the string methods str.lower() and str.split() to format the company name. "
   ]
  },
  {
   "cell_type": "markdown",
   "metadata": {},
   "source": [
    "### The second question is which company received the most complaints from each state/territory and how many complaints did that company receive?\n"
   ]
  },
  {
   "cell_type": "markdown",
   "metadata": {},
   "source": [
    "Note: In the variables in the code below and description after, I will refer to territory as state but the output will contain appropriate data for each territory as well as state. "
   ]
  },
  {
   "cell_type": "code",
   "execution_count": 7,
   "metadata": {},
   "outputs": [
    {
     "data": {
      "text/plain": [
       "{'MI': {'BANK OF AMERICA, NATIONAL ASSOCIATION': 2066},\n",
       " 'ID': {'WELLS FARGO & COMPANY': 255},\n",
       " 'VA': {'EQUIFAX, INC.': 2900},\n",
       " 'MN': {'WELLS FARGO & COMPANY': 1314},\n",
       " 'CA': {'BANK OF AMERICA, NATIONAL ASSOCIATION': 14812},\n",
       " 'FL': {'EQUIFAX, INC.': 9590},\n",
       " 'TX': {'EQUIFAX, INC.': 9838},\n",
       " 'NV': {'Experian Information Solutions Inc.': 1172},\n",
       " 'MT': {'WELLS FARGO & COMPANY': 154},\n",
       " 'ME': {'BANK OF AMERICA, NATIONAL ASSOCIATION': 297},\n",
       " 'WI': {'EQUIFAX, INC.': 787},\n",
       " 'WA': {'BANK OF AMERICA, NATIONAL ASSOCIATION': 1925},\n",
       " 'RI': {'BANK OF AMERICA, NATIONAL ASSOCIATION': 275},\n",
       " 'NJ': {'WELLS FARGO & COMPANY': 3584},\n",
       " 'IL': {'EQUIFAX, INC.': 3964},\n",
       " 'MS': {'EQUIFAX, INC.': 690},\n",
       " 'OH': {'EQUIFAX, INC.': 2372},\n",
       " 'MD': {'BANK OF AMERICA, NATIONAL ASSOCIATION': 2822},\n",
       " 'MA': {'BANK OF AMERICA, NATIONAL ASSOCIATION': 2143},\n",
       " 'SC': {'EQUIFAX, INC.': 1732},\n",
       " 'CO': {'EQUIFAX, INC.': 1399},\n",
       " 'SD': {'WELLS FARGO & COMPANY': 134},\n",
       " 'NY': {'JPMORGAN CHASE & CO.': 6037},\n",
       " 'LA': {'EQUIFAX, INC.': 1403},\n",
       " 'OR': {'BANK OF AMERICA, NATIONAL ASSOCIATION': 962},\n",
       " 'GA': {'EQUIFAX, INC.': 6598},\n",
       " 'IN': {'EQUIFAX, INC.': 986},\n",
       " 'NC': {'EQUIFAX, INC.': 3684},\n",
       " 'TN': {'EQUIFAX, INC.': 1798},\n",
       " 'VT': {'BANK OF AMERICA, NATIONAL ASSOCIATION': 114},\n",
       " 'DE': {'EQUIFAX, INC.': 385},\n",
       " 'MO': {'EQUIFAX, INC.': 1298},\n",
       " 'WV': {'EQUIFAX, INC.': 246},\n",
       " 'AZ': {'BANK OF AMERICA, NATIONAL ASSOCIATION': 1955},\n",
       " 'HI': {'BANK OF AMERICA, NATIONAL ASSOCIATION': 314},\n",
       " 'ND': {'Experian Information Solutions Inc.': 132},\n",
       " 'PA': {'EQUIFAX, INC.': 2744},\n",
       " 'AL': {'EQUIFAX, INC.': 1382},\n",
       " 'WY': {'WELLS FARGO & COMPANY': 82},\n",
       " 'CT': {'BANK OF AMERICA, NATIONAL ASSOCIATION': 1123},\n",
       " 'NH': {'BANK OF AMERICA, NATIONAL ASSOCIATION': 526},\n",
       " 'UT': {'Experian Information Solutions Inc.': 517},\n",
       " 'AR': {'EQUIFAX, INC.': 465},\n",
       " 'NM': {'Experian Information Solutions Inc.': 479},\n",
       " 'KS': {'EQUIFAX, INC.': 413},\n",
       " 'NE': {'WELLS FARGO & COMPANY': 308},\n",
       " 'OK': {'EQUIFAX, INC.': 544},\n",
       " 'DC': {'BANK OF AMERICA, NATIONAL ASSOCIATION': 467},\n",
       " 'IA': {'EQUIFAX, INC.': 421},\n",
       " 'KY': {'EQUIFAX, INC.': 690},\n",
       " 'PR': {'BANCO POPULAR DE PUERTO RICO': 413},\n",
       " 'AP': {'EQUIFAX, INC.': 31},\n",
       " 'AK': {'WELLS FARGO & COMPANY': 150},\n",
       " 'MH': {'JPMORGAN CHASE & CO.': 3},\n",
       " 'GU': {'EQUIFAX, INC.': 21},\n",
       " 'VI': {'BANCO POPULAR DE PUERTO RICO': 21},\n",
       " 'MP': {'BANK OF AMERICA, NATIONAL ASSOCIATION': 3},\n",
       " 'FM': {'BANK OF AMERICA, NATIONAL ASSOCIATION': 8},\n",
       " 'AE': {'Experian Information Solutions Inc.': 34},\n",
       " 'UNITED STATES MINOR OUTLYING ISLANDS': {'CITIBANK, N.A.': 2},\n",
       " 'AA': {'WELLS FARGO & COMPANY': 3},\n",
       " 'AS': {'WELLS FARGO & COMPANY': 3},\n",
       " 'PW': {'Ditech Financial LLC': 2}}"
      ]
     },
     "metadata": {},
     "output_type": "display_data"
    }
   ],
   "source": [
    "data = data.dropna(subset=[\"state\"])\n",
    "state_company = {}\n",
    "states = data[\"state\"].unique()\n",
    "for each in states:\n",
    "    selected_state_data = data[data[\"state\"] == each]\n",
    "    companies_by_complaints = selected_state_data[\"company\"].value_counts()\n",
    "    Top_company = companies_by_complaints.index[0]\n",
    "    Number_complaints_of_top_company = companies_by_complaints.iloc[0]\n",
    "    state_company[each] = {Top_company:Number_complaints_of_top_company}\n",
    "display(state_company)"
   ]
  },
  {
   "cell_type": "markdown",
   "metadata": {},
   "source": [
    "To solve this question, I first dropped the rows which had a null value in the State column. This was for simplicity sake. In future projects, I will come up with creative strategies to fill in those null values. I then created an empty dictionary called state_company that would hold the final result. Afterwards, I got a list of unique values in the state column and assigned it to states. I then ran a for loop that iterated over the states list and for each iteration, it first selected the rows in the dataframe where the state column was equal to the state that was currently running in the loop and assigned it to selected_state_data. Then, it counted the number of times each company had received a complaint from that state and assigned the series to companies_by_complaints. Afterwards, the Top_company variable was assigned the name of the company that received the most complaints in that state and Number_complaints_of_top_company variable was assigned the number of complaints that company received. Finally, the state_company dictionary was appeneded with the key being the name of the state and the value being another dictionary that contained top_company as key and Number_complaints_of_top_company as value. Once all the states from states list had been iterated over, the loop broke and state_company dictionary was displayed. "
   ]
  },
  {
   "cell_type": "markdown",
   "metadata": {},
   "source": [
    "### The third question is which company from the Mortgage product faced the most complaints, and how many complaints did they face?"
   ]
  },
  {
   "cell_type": "code",
   "execution_count": 8,
   "metadata": {},
   "outputs": [
    {
     "data": {
      "text/plain": [
       "'The company that faced most complaints in Mortgage prodcut is bank of america with 41927 complaints.'"
      ]
     },
     "metadata": {},
     "output_type": "display_data"
    }
   ],
   "source": [
    "selected_data = (data.loc[data[\"product\"] == \"Mortgage\",\"company\"])\n",
    "Mortgage_top_complaints = (data.loc[data[\"product\"] == \"Mortgage\",\"company\"]).value_counts().index[0]\n",
    "Mortgage_top_complaints_number = (data.loc[data[\"product\"] == \"Mortgage\",\"company\"]).value_counts().iloc[0]\n",
    "display(\"The company that faced most complaints in Mortgage prodcut is \" + Mortgage_top_complaints.lower().split(\",\")[0]\n",
    "        .replace(\",\",\"\") + \" with \" + str(Mortgage_top_complaints_number) + \" complaints.\")"
   ]
  },
  {
   "cell_type": "markdown",
   "metadata": {},
   "source": [
    "First, I filtered the relavant data by selecting companies that where the product column was equal to Mortgage and assigned it to selected data. I then assigned the company that received most complaints under mortgage product to Mortgage_top_complaints by getting a value count of selected_data and finding top company using Series.index[0]. As previously noted, Series.value_counts() , by default, is in ascending order so we be assured that the top row will containt the company that received the most complaints. Afterwards, I assigned the number of complaints that the top company recieved to Mortgage_top_complaints_number by using .iloc[0] to get the value of the top row. In order to display, I used multiple string methods such as str.lower(), str.split(), and str.replace() to make the output concise and easy to read for viewer. "
   ]
  },
  {
   "cell_type": "markdown",
   "metadata": {},
   "source": [
    "### The fourth question is which state did most student loans complaints come from, and how many complaints were there?"
   ]
  },
  {
   "cell_type": "code",
   "execution_count": 9,
   "metadata": {},
   "outputs": [
    {
     "data": {
      "text/plain": [
       "'The state with most student loan complaints was CA with 4826 complaints.'"
      ]
     },
     "metadata": {},
     "output_type": "display_data"
    }
   ],
   "source": [
    "selected_data = data.loc[data[\"product\"] == \"Student loan\",\"state\"]\n",
    "state_top_SL_complaints = selected_data.value_counts().index[0]\n",
    "number_state_top_SL_complaints = selected_data.value_counts().iloc[0]\n",
    "display(\"The state with most student loan complaints was \" + state_top_SL_complaints + \" with \" + \n",
    "        str(number_state_top_SL_complaints) + \" complaints.\")"
   ]
  },
  {
   "cell_type": "markdown",
   "metadata": {},
   "source": [
    "I solved this question using a similar approach from the third question."
   ]
  },
  {
   "cell_type": "markdown",
   "metadata": {},
   "source": [
    "### The fifth question is which year had the most complaints from 2011 - 2018?"
   ]
  },
  {
   "cell_type": "code",
   "execution_count": 33,
   "metadata": {},
   "outputs": [
    {
     "data": {
      "text/plain": [
       "'The year with most complaints from 2011-2018 was 2017'"
      ]
     },
     "metadata": {},
     "output_type": "display_data"
    }
   ],
   "source": [
    "data[\"year\"] = data[\"date_received\"].str.replace(\"/\",\" \").str.split(n=3,expand=True)[2]\n",
    "select_data = data[\"year\"]\n",
    "year_with_most_complaints = select_data.value_counts().index[0]\n",
    "display(\"The year with most complaints from 2011-2018 was \" + year_with_most_complaints)"
   ]
  },
  {
   "cell_type": "markdown",
   "metadata": {},
   "source": [
    "Typically, it is recommended that datetime module in pandas be used to analyze time. However, I am still in process of learning that so for now, I used a different method to answer this question. I made a new column in the dataframe called year and used series.str.replace and series.str.split methods on the date_received column to assign year complaint was received to year column. I then used a similar approach from past two questions, as I created a series that included year column and then used Series.value_counts().index[0] to find the year with the most complaints. "
   ]
  },
  {
   "cell_type": "markdown",
   "metadata": {},
   "source": [
    "### The sixth question is to what percent of complaints did companies respond in a timely manner?"
   ]
  },
  {
   "cell_type": "code",
   "execution_count": 39,
   "metadata": {},
   "outputs": [
    {
     "data": {
      "text/plain": [
       "'Companies responsed in a timely manner 97.35% percent of the time'"
      ]
     },
     "metadata": {},
     "output_type": "display_data"
    }
   ],
   "source": [
    "timely_manner = data[\"timely_response\"].value_counts(normalize=True)\n",
    "display(\"Companies responsed in a timely manner \" + \"{:.2%}\".format(timely_manner.iloc[0]) + \" percent of the time\") \n"
   ]
  },
  {
   "cell_type": "markdown",
   "metadata": {},
   "source": [
    "To solve this question, I created a series timely_manner and used Series.value_counts() with normalize parameter set to True to \n",
    "get a distribution of the Yes and no labels in the series. I then displayed the percentage of time that companies responded in a\n",
    "timely manner by converting the decimal to percentage in the display. "
   ]
  },
  {
   "cell_type": "markdown",
   "metadata": {},
   "source": [
    "### The seventh question is which company saw the greatest customer disputes to their timely response?"
   ]
  },
  {
   "cell_type": "code",
   "execution_count": 56,
   "metadata": {},
   "outputs": [
    {
     "data": {
      "text/plain": [
       "'The company that saw the greatest customer dispute to their timely response is bank of america'"
      ]
     },
     "metadata": {},
     "output_type": "display_data"
    }
   ],
   "source": [
    "consumer_disputes = data.loc[(data[\"timely_response\"] == \"Yes\") & (data[\"consumer_disputed\"] == \"Yes\"),\"company\"].value_counts()\n",
    "display(\"The company that saw the greatest customer dispute to their timely response is \" + str(consumer_disputes.index[0]).lower().split(\",\")[0]\n",
    "        .replace(\",\",\"\"))"
   ]
  },
  {
   "cell_type": "markdown",
   "metadata": {},
   "source": [
    "### Final Thoughts:\n",
    "\n",
    "Overall, I was happy with how this project turned out. I was able to practice many of the Pandas techniwues that I have been learning and also become accustomed to the Jupyter notebook. For my next analysis project similar to this one, I would like to fill in missing values and also use the pandas datetime module. "
   ]
  }
 ],
 "metadata": {
  "kernelspec": {
   "display_name": "Python 3",
   "language": "python",
   "name": "python3"
  },
  "language_info": {
   "codemirror_mode": {
    "name": "ipython",
    "version": 3
   },
   "file_extension": ".py",
   "mimetype": "text/x-python",
   "name": "python",
   "nbconvert_exporter": "python",
   "pygments_lexer": "ipython3",
   "version": "3.6.5"
  }
 },
 "nbformat": 4,
 "nbformat_minor": 2
}
